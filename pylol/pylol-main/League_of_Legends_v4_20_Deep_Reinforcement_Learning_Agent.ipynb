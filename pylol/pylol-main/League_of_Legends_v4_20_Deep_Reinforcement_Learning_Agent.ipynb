{
  "cells": [
    {
      "cell_type": "markdown",
      "metadata": {
        "id": "RbPeR9efr1e8"
      },
      "source": [
        "# League of Legends v4.20 Deep Reinforcement Learning Agent\n",
        "\n",
        "## Introduction\n",
        "\n",
        "This Google Colab Notebook is created as a self-contained example for running League of Legends v4.20 DRL training with [pylol](https://github.com/MiscellaneousStuff/pylol) library.\n",
        "To use it, simply execute each cell below one by one."
      ]
    },
    {
      "cell_type": "markdown",
      "metadata": {
        "id": "jOStvJ-csTdw"
      },
      "source": [
        "# Installation"
      ]
    },
    {
      "cell_type": "markdown",
      "metadata": {
        "id": "4d0gpKP-zYjn"
      },
      "source": [
        "## GameServer (from source)"
      ]
    },
    {
      "cell_type": "markdown",
      "metadata": {
        "id": "fksiSdKxzv1A"
      },
      "source": [
        "#### Install .NET"
      ]
    },
    {
      "cell_type": "code",
      "execution_count": null,
      "metadata": {
        "colab": {
          "base_uri": "https://localhost:8080/"
        },
        "id": "as8HBK9pzd0G",
        "outputId": "c3ab138a-7001-4ef0-fc7e-63d5e645ffc6"
      },
      "outputs": [],
      "source": [
        "!wget https://packages.microsoft.com/config/ubuntu/18.04/packages-microsoft-prod.deb -O packages-microsoft-prod.deb\n",
        "!sudo dpkg -i packages-microsoft-prod.deb"
      ]
    },
    {
      "cell_type": "markdown",
      "metadata": {
        "id": "DBqMdxHuz76K"
      },
      "source": [
        "#### Install the Runtime"
      ]
    },
    {
      "cell_type": "code",
      "execution_count": null,
      "metadata": {
        "colab": {
          "base_uri": "https://localhost:8080/"
        },
        "id": "4LY7XSZVz-JX",
        "outputId": "b339949f-29b7-4820-9d27-ecabac243cad"
      },
      "outputs": [],
      "source": [
        "!sudo apt-get update; \\\n",
        "  sudo apt-get install -y apt-transport-https && \\\n",
        "  sudo apt-get update && \\\n",
        "  sudo apt-get install -y dotnet-sdk-3.1"
      ]
    },
    {
      "cell_type": "markdown",
      "metadata": {
        "id": "aXd8KbdM0SLd"
      },
      "source": [
        "#### Clone GameServer"
      ]
    },
    {
      "cell_type": "code",
      "execution_count": null,
      "metadata": {
        "colab": {
          "base_uri": "https://localhost:8080/"
        },
        "id": "by5y-SI20ZR7",
        "outputId": "0a013dc3-d65f-4389-a6f9-3a694d70c92b"
      },
      "outputs": [],
      "source": [
        "!rm -rf LeagueSandbox-RL-Learning\n",
        "!git clone https://github.com/MiscellaneousStuff/LeagueSandbox-RL-Learning\n",
        "!cd LeagueSandbox-RL-Learning && git checkout master && git branch && git submodule init && git submodule update"
      ]
    },
    {
      "cell_type": "markdown",
      "metadata": {
        "id": "-pNaNIK-0fKe"
      },
      "source": [
        "### Build GameServer"
      ]
    },
    {
      "cell_type": "code",
      "execution_count": null,
      "metadata": {
        "colab": {
          "base_uri": "https://localhost:8080/"
        },
        "id": "hdHxtHcm0iSp",
        "outputId": "5fb9d45b-d0b6-4925-b73d-6635377de87a"
      },
      "outputs": [],
      "source": [
        "!cd LeagueSandbox-RL-Learning  && dotnet build ."
      ]
    },
    {
      "cell_type": "markdown",
      "metadata": {
        "id": "JJhZgRz9gsIa"
      },
      "source": [
        "#### Run GameServer to Generate Configs"
      ]
    },
    {
      "cell_type": "code",
      "execution_count": null,
      "metadata": {
        "colab": {
          "base_uri": "https://localhost:8080/"
        },
        "id": "IfJrFm8-gx8x",
        "outputId": "8201981a-8981-494f-b1e4-340f5708c10d"
      },
      "outputs": [],
      "source": [
        "!cd /content/LeagueSandbox-RL-Learning/GameServerConsole/bin/Debug/netcoreapp3.0/ && \\\n",
        "/content/LeagueSandbox-RL-Learning/GameServerConsole/bin/Debug/netcoreapp3.0/GameServerConsole --redis_port 6379"
      ]
    },
    {
      "cell_type": "markdown",
      "metadata": {
        "id": "af5vkFpXsVxc"
      },
      "source": [
        "## PyLoL (from source)"
      ]
    },
    {
      "cell_type": "code",
      "execution_count": null,
      "metadata": {
        "colab": {
          "base_uri": "https://localhost:8080/",
          "height": 391
        },
        "id": "AKSTCqcZrpg-",
        "outputId": "818b12ec-237b-4ad0-9166-bf3600176428"
      },
      "outputs": [],
      "source": [
        "!git clone -v https://github.com/MiscellaneousStuff/pylol.git\n",
        "!pip3 install --upgrade pylol/"
      ]
    },
    {
      "cell_type": "markdown",
      "metadata": {
        "id": "BS4Dzx7M1CO1"
      },
      "source": [
        "## Test PyLoL"
      ]
    },
    {
      "cell_type": "markdown",
      "metadata": {
        "id": "pmUjlLib92s6"
      },
      "source": [
        "### Install Redis Client (Python) and Redis Server (Linux)"
      ]
    },
    {
      "cell_type": "code",
      "execution_count": null,
      "metadata": {
        "colab": {
          "base_uri": "https://localhost:8080/"
        },
        "id": "VKjce0cg1D48",
        "outputId": "0a01714b-49c3-4f1c-fb00-2f7e4f48b1b2"
      },
      "outputs": [],
      "source": [
        "!pip3 install redis\n",
        "!sudo apt-get install redis-server"
      ]
    },
    {
      "cell_type": "markdown",
      "metadata": {
        "id": "FfWHwDq4fK3G"
      },
      "source": [
        "#### Write Config Dirs (just GameServer for now)"
      ]
    },
    {
      "cell_type": "code",
      "execution_count": null,
      "metadata": {
        "id": "wcw1YpDVfSfP"
      },
      "outputs": [],
      "source": [
        "# Only need to write config for GameServer here as we don't use the League Client within Colab environment\n",
        "!touch config_dirs.txt\n",
        "!printf \"[dirs]\\ngameserver = /content/LeagueSandbox-RL-Learning/GameServerConsole/bin/Debug/netcoreapp3.0/\\nlolclient = \" > config_dirs.txt"
      ]
    },
    {
      "cell_type": "markdown",
      "metadata": {
        "id": "pClzzVLL9-xT"
      },
      "source": [
        "### Run Test"
      ]
    },
    {
      "cell_type": "markdown",
      "metadata": {
        "id": "vdEFyRK6D4v9"
      },
      "source": [
        "#### Test PyLoL on Local IP"
      ]
    },
    {
      "cell_type": "code",
      "execution_count": null,
      "metadata": {
        "colab": {
          "base_uri": "https://localhost:8080/"
        },
        "id": "6WurA_W9-PiG",
        "outputId": "a93700a8-fde3-4f5d-8000-f1e831611dc3"
      },
      "outputs": [],
      "source": [
        "# Get local IP\n",
        "host = !hostname -i\n",
        "host = host[0]\n",
        "\n",
        "# Run Client\n",
        "!python3 -m pylol.bin.client --max_steps 100 --host $host --agent scripted --config_path \"config_dirs.txt\""
      ]
    },
    {
      "cell_type": "markdown",
      "metadata": {
        "id": "W_2Gjhb7rPLc"
      },
      "source": [
        "#### Test PyLoL with a Custom Agent"
      ]
    },
    {
      "cell_type": "code",
      "execution_count": null,
      "metadata": {
        "colab": {
          "base_uri": "https://localhost:8080/"
        },
        "id": "k0T0geGcrSb_",
        "outputId": "11c56237-fd88-4c3f-b716-e78aa5261f92"
      },
      "outputs": [],
      "source": [
        "# Imports\n",
        "from pylol.env import lol_env\n",
        "from pylol.env import run_loop\n",
        "from pylol.agents import base_agent\n",
        "from pylol.lib import actions\n",
        "\n",
        "# Settings\n",
        "feature_map_size = 16000\n",
        "feature_move_range = 8\n",
        "player_list = \"Ezreal.BLUE,Ezreal.PURPLE\" # Comma-separated list of `Player.Team`\n",
        "map = \"Old Summoners Rift\" # [\"New Summoners Rift\", \"Howling Abyss\"]\n",
        "max_steps = 100 # 100 steps / 7.5 steps (a second) = 13.33 seconds\n",
        "max_episodes = 0 # When set to 0, ignores this variable\n",
        "host = !hostname -i\n",
        "host = host[0]\n",
        "config_path = \"/content/config_dirs.txt\"\n",
        "\n",
        "# Define Agent Here\n",
        "class CustomAgent(base_agent.BaseAgent):\n",
        "  def step(self, obs):\n",
        "    super(CustomAgent, self).step(obs)\n",
        "\n",
        "    # Get the position of the enemy agent\n",
        "    enemy_position = [obs.observation[\"enemy_unit\"].position_x,\n",
        "                      obs.observation[\"enemy_unit\"].position_y]\n",
        "    \n",
        "    # Print the enemy agents HP with our user id\n",
        "    print(\"My ID, Enemy HP: %d %f\" % \\\n",
        "          (obs.observation[\"me_unit\"].user_id,\n",
        "           obs.observation[\"enemy_unit\"].current_hp))\n",
        "\n",
        "    # Ezreal Q at the enemy agents position\n",
        "    return actions.FunctionCall(2, [[0], enemy_position])\n",
        "\n",
        "# Setup the Game\n",
        "players = []\n",
        "agents = []\n",
        "for player in player_list.split(\",\"):\n",
        "  c, t = player.split(\".\")\n",
        "  players.append(lol_env.Agent(champion=c, team=t))\n",
        "  agents.append(CustomAgent())\n",
        "\n",
        "# Run the Game\n",
        "with lol_env.LoLEnv(\n",
        "  host=host,\n",
        "  map_name=map,\n",
        "  players=players,\n",
        "  agent_interface_format=lol_env.parse_agent_interface_format(\n",
        "    feature_map=feature_map_size,\n",
        "    feature_move_range=feature_move_range\n",
        "  ),\n",
        "  human_observer=False,\n",
        "  cooldowns_enabled=False,\n",
        "  config_path=config_path) as env:\n",
        "\n",
        "    run_loop.run_loop(agents, env, max_episodes=max_episodes, max_steps=max_steps)"
      ]
    },
    {
      "cell_type": "markdown",
      "metadata": {
        "id": "xh110letpddh"
      },
      "source": [
        "## Download LoL Client, Wine and Winetrick"
      ]
    },
    {
      "cell_type": "markdown",
      "metadata": {
        "id": "757VysYsqMf2"
      },
      "source": [
        "### Download LoL Client"
      ]
    },
    {
      "cell_type": "code",
      "execution_count": null,
      "metadata": {
        "colab": {
          "base_uri": "https://localhost:8080/"
        },
        "id": "5kEGbN8hqnDD",
        "outputId": "de270584-1ef7-45a9-914f-4651d7525e6e"
      },
      "outputs": [],
      "source": [
        "!wget --no-check-certificate --load-cookies /tmp/cookies.txt \"https://docs.google.com/uc?export=download&confirm=$(wget --quiet --save-cookies /tmp/cookies.txt --keep-session-cookies --no-check-certificate 'https://docs.google.com/uc?export=download&id=1vkrdzSxTN6FPP7A9R65bIEBNefU7vDJL' -O- | sed -rn 's/.*confirm=([0-9A-Za-z_]+).*/\\1\\n/p')&id=1vkrdzSxTN6FPP7A9R65bIEBNefU7vDJL\" -O league-of-legends-420.tar.gz && rm -rf /tmp/cookies.txtInstall Winetricks"
      ]
    },
    {
      "cell_type": "markdown",
      "metadata": {
        "id": "2kjwEIhRqTgW"
      },
      "source": [
        "### Install Wine"
      ]
    },
    {
      "cell_type": "code",
      "execution_count": null,
      "metadata": {
        "colab": {
          "base_uri": "https://localhost:8080/"
        },
        "id": "e_UlOZm1qqBB",
        "outputId": "496fd54f-2bc0-4d1f-8087-cdad394df933"
      },
      "outputs": [],
      "source": [
        "!sudo dpkg --add-architecture i386\n",
        "!sudo apt update -y\n",
        "!sudo apt install wine64 wine32 -y"
      ]
    },
    {
      "cell_type": "markdown",
      "metadata": {
        "id": "nI0-DS8KqY5J"
      },
      "source": [
        "### Install Winetricks"
      ]
    },
    {
      "cell_type": "code",
      "execution_count": null,
      "metadata": {
        "colab": {
          "base_uri": "https://localhost:8080/"
        },
        "id": "2VcfzcGvqSx3",
        "outputId": "7f7b9243-6d6b-4130-cc13-9b05cfdb5992"
      },
      "outputs": [],
      "source": [
        "!sudo apt-get install winetricks -y\n",
        "!winetricks d3dx9"
      ]
    },
    {
      "cell_type": "markdown",
      "metadata": {
        "id": "cJXODFRMqfZO"
      },
      "source": [
        "### Extract LoL Client"
      ]
    },
    {
      "cell_type": "code",
      "execution_count": null,
      "metadata": {
        "colab": {
          "base_uri": "https://localhost:8080/"
        },
        "id": "0E7bVeRiquhi",
        "outputId": "13e5b69f-63cf-4912-b697-d9e3ec6c6c8f"
      },
      "outputs": [],
      "source": [
        "!tar -xzvf league-of-legends-420.tar.gz"
      ]
    },
    {
      "cell_type": "markdown",
      "metadata": {
        "id": "kNTqnArEsRK_"
      },
      "source": [
        "## Test League Client"
      ]
    },
    {
      "cell_type": "markdown",
      "metadata": {
        "id": "kZQ93hrvsWFX"
      },
      "source": [
        "### Install Virtual X Frame Buffer"
      ]
    },
    {
      "cell_type": "code",
      "execution_count": null,
      "metadata": {
        "colab": {
          "base_uri": "https://localhost:8080/"
        },
        "id": "EO7uIoV6sby4",
        "outputId": "24fdb32a-2076-4421-bc43-72909881c987"
      },
      "outputs": [],
      "source": [
        "!sudo apt-get install xvfb -y"
      ]
    },
    {
      "cell_type": "code",
      "execution_count": null,
      "metadata": {
        "colab": {
          "base_uri": "https://localhost:8080/"
        },
        "id": "yhwmCKr-wOs-",
        "outputId": "f0f7c0ed-ba09-437d-a52f-8d6571b0c014"
      },
      "outputs": [],
      "source": [
        "import os\n",
        "\n",
        "s = \"\"\"\n",
        "XVFB=/usr/bin/Xvfb\n",
        "XVFBARGS=\":1 -screen 0 320x200x24 -ac +extension GLX +render -noreset\"\n",
        "PIDFILE=/var/run/xvfb.pid\n",
        "case \"$1\" in\n",
        "  start)\n",
        "    export DISPLAY=:1\n",
        "    echo -n \"Starting virtual X frame buffer: Xvfb\"\n",
        "    start-stop-daemon --start --quiet --pidfile $PIDFILE --make-pidfile --background --exec $XVFB -- $XVFBARGS\n",
        "    echo \".\"\n",
        "    ;;\n",
        "  stop)\n",
        "    echo -n \"Stopping virtual X frame buffer: Xvfb\"\n",
        "    start-stop-daemon --stop --quiet --pidfile $PIDFILE\n",
        "    rm $PIDFILE\n",
        "    echo \".\"\n",
        "    ;;\n",
        "  restart)\n",
        "    $0 stop\n",
        "    $0 start\n",
        "    ;;\n",
        "  *)\n",
        "        echo \"Usage: /etc/init.d/xvfb {start|stop|restart}\"\n",
        "        exit 1\n",
        "esac\n",
        "\n",
        "exit 0\n",
        "\"\"\"\n",
        "\n",
        "with open(\"./start_xvfb.sh\", \"w\") as f:\n",
        "  f.write(s)\n",
        "\n",
        "game_cfg = \"\"\"\n",
        "[General]\n",
        "GameMouseSpeed=4\n",
        "UserSetResolution=1\n",
        "EnableAudio=0\n",
        "BindSysKeys=0\n",
        "SnapCameraOnRespawn=1\n",
        "OSXMouseAcceleration=1\n",
        "AutoAcquireTarget=1\n",
        "EnableLightFx=0\n",
        "WindowMode=1\n",
        "ShowTurretRangeIndicators=1\n",
        "PredictMovement=0\n",
        "WaitForVerticalSync=0\n",
        "Colors=24\n",
        "Height=200\n",
        "Width=320\n",
        "SystemMouseSpeed=0\n",
        "CfgVersion=4.20.315\n",
        "\n",
        "[HUD]\n",
        "ItemShopPrevY=58\n",
        "ItemShopPrevX=-218\n",
        "NameTagDisplay=1\n",
        "ShowChampionIndicator=0\n",
        "ShowSummonerNames=1\n",
        "ScrollSmoothingEnabled=0\n",
        "MiddleMouseScrollSpeed=0.5000\n",
        "MapScrollSpeed=0.5000\n",
        "ShowAttackRadius=1\n",
        "NumericCooldownFormat=1\n",
        "SmartCastOnKeyRelease=0\n",
        "EnableLineMissileVis=1\n",
        "FlipMiniMap=0\n",
        "ShowAllChannelChat=1\n",
        "FlashScreenWhenStunned=0\n",
        "ShowTimestamps=1\n",
        "ChatScale=100\n",
        "FlashScreenWhenDamaged=0\n",
        "ItemShopResizeHeight=0\n",
        "ItemShopResizeWidth=260\n",
        "ItemShopPrevResizeHeight=960\n",
        "ItemShopPrevResizeWidth=1280\n",
        "ItemShopItemDisplayMode=1\n",
        "ItemShopStartPane=1\n",
        "\n",
        "[Performance]\n",
        "ShadowsEnabled=0\n",
        "CharacterInking=0\n",
        "EnableHUDAnimations=0\n",
        "PerPixelPointLighting=1\n",
        "EnableParticleOptimizations=0\n",
        "BudgetOverdrawAverage=10\n",
        "BudgetSkinnedVertexCount=200000\n",
        "BudgetSkinnedDrawCallCount=100\n",
        "BudgetTextureUsage=150000\n",
        "BudgetVertexCount=500000\n",
        "BudgetTriangleCount=300000\n",
        "BudgetDrawCallCount=1000\n",
        "EnableGrassSwaying=1\n",
        "EnableFXAA=0\n",
        "AdvancedShader=0\n",
        "FrameCapType=2\n",
        "EffectsQuality=1\n",
        "GammaEnabled=0\n",
        "Full3DModeEnabled=1\n",
        "EnvironmentQuality=1\n",
        "CharacterQuality=1\n",
        "AutoPerformanceSettings=0\n",
        "ShadowQuality=0\n",
        "GraphicsSlider=-1\n",
        "\n",
        "[Volume]\n",
        "PingsVolume=0.62\n",
        "AmbienceVolume=0.58\n",
        "MusicVolume=0.47\n",
        "MasterVolume=0.41\n",
        "\n",
        "[LossOfControl]\n",
        "ShowSlows=0\n",
        "\n",
        "[FloatingText]\n",
        "Debug_Enabled=1\n",
        "Absorbed_Enabled=1\n",
        "OMW_Enabled=1\n",
        "EnemyTrueDamageCritical_Enabled=1\n",
        "EnemyMagicalDamageCritical_Enabled=1\n",
        "EnemyPhysicalDamageCritical_Enabled=1\n",
        "Experience_Enabled=1\n",
        "TrueDamageCritical_Enabled=1\n",
        "MagicalDamageCritical_Enabled=1\n",
        "PhysicalDamageCritical_Enabled=1\n",
        "ManaDamage_Enabled=1\n",
        "ManaHeal_Enabled=1\n",
        "\n",
        "[Replay]\n",
        "EnableHelpTip=0\n",
        "\"\"\"\n",
        "\n",
        "# TODO: Write game_cfg\n",
        "with open(\"/content/League-of-Legends-4-20/Config/game.cfg\", \"w\") as f:\n",
        "  f.write(game_cfg)\n",
        "\n",
        "!chmod +x start_xvfb.sh\n",
        "!./start_xvfb.sh start"
      ]
    },
    {
      "cell_type": "markdown",
      "metadata": {
        "id": "TKRE9u9hsgW1"
      },
      "source": [
        "### Run Client"
      ]
    },
    {
      "cell_type": "code",
      "execution_count": null,
      "metadata": {
        "colab": {
          "base_uri": "https://localhost:8080/"
        },
        "id": "8_VOdooNskjh",
        "outputId": "d6192c7e-7be5-4b1c-a3e8-87613f2529fa"
      },
      "outputs": [],
      "source": [
        "!pip install pyautogui\n",
        "!pip install Xlib"
      ]
    },
    {
      "cell_type": "markdown",
      "metadata": {
        "id": "S9mDNhZWwdej"
      },
      "source": [
        "### Write Config Dirs (now set to GameServer and Client)"
      ]
    },
    {
      "cell_type": "code",
      "execution_count": null,
      "metadata": {
        "id": "X7tfAr7jwdek"
      },
      "outputs": [],
      "source": [
        "# Only need to write config for GameServer here as we don't use the League Client within Colab environment\n",
        "!touch config_dirs.txt\n",
        "!printf \"[dirs]\\ngameserver = /content/LeagueSandbox-RL-Learning/GameServerConsole/bin/Debug/netcoreapp3.0/\\nlolclient = /content/League-of-Legends-4-20/RADS/solutions/lol_game_client_sln/releases/0.0.1.68/deploy/\" > config_dirs.txt"
      ]
    },
    {
      "cell_type": "code",
      "execution_count": null,
      "metadata": {
        "id": "2Vdg5rd2smdH"
      },
      "outputs": [],
      "source": [
        "import os\n",
        "os.environ[\"DISPLAY\"] = \":1\"\n",
        "\n",
        "# NOTE: Uncomment this if you want to test the environment before the\n",
        "#       experiment\n",
        "RUN_PYLOL_TEST = False\n",
        "\n",
        "# Get local IP\n",
        "host = !hostname -i\n",
        "host = host[0]\n",
        "\n",
        "# NOTE: You need to manually stop this cell when you want it to stop recording\n",
        "#       Automating this process is a nightmare and not worth the effort\n",
        "# NOTE: It takes about 1 minute to actually load into the game because colab\n",
        "#       is running on 2 vCPUs which is the same as a single core CPU\n",
        "# NOTE: The game is rendered at 320x200 because we only have software rendering\n",
        "#       availabe. Surpringly, league adjusts it's HUD quite well to that resolution\n",
        "#       so you can still more or less see what's going on.\n",
        "# NOTE: Sometimes portpicker will pick an unavailable port, just restart this cell\n",
        "#       if that happens\n",
        "\n",
        "if RUN_PYLOL_TEST:\n",
        "  !rm ./pylol_test.mp4\n",
        "  !ffmpeg -f x11grab -video_size 320x200 -i :1 -r 10 ./pylol_test.mp4 & python3 -m pylol.bin.client --max_steps 250 --host $host --agent random --config_path \"/content/config_dirs.txt\" --run_client"
      ]
    },
    {
      "cell_type": "code",
      "execution_count": null,
      "metadata": {
        "id": "p_m3M-mYsoG_"
      },
      "outputs": [],
      "source": [
        "if RUN_PYLOL_TEST:\n",
        "  from IPython.display import HTML\n",
        "  from base64 import b64encode\n",
        "  mp4 = open('pylol_test.mp4','rb').read()\n",
        "  data_url = \"data:video/mp4;base64,\" + b64encode(mp4).decode()\n",
        "  HTML(\"\"\"\n",
        "  <video width=800 controls>\n",
        "        <source src=\"%s\" type=\"video/mp4\">\n",
        "  </video>\n",
        "  \"\"\" % data_url)"
      ]
    },
    {
      "cell_type": "markdown",
      "metadata": {
        "id": "PcjyuV2OIyoy"
      },
      "source": [
        "## Install LoLGym"
      ]
    },
    {
      "cell_type": "code",
      "execution_count": null,
      "metadata": {
        "colab": {
          "base_uri": "https://localhost:8080/"
        },
        "id": "bKFAJc4xI1j0",
        "outputId": "e98d27bf-71d8-4b6e-ae76-edb13d4b3988"
      },
      "outputs": [],
      "source": [
        "!rm -rf lolgym # Delete old version in case we're experimenting with lolgym\n",
        "!git clone https://github.com/MiscellaneousStuff/lolgym.git\n",
        "!pip3 install -e lolgym/"
      ]
    },
    {
      "cell_type": "markdown",
      "metadata": {
        "id": "H4HRpIgCtOBK"
      },
      "source": [
        "# Training\n",
        "\n",
        "Example task trains an agent to maximize it's distance from another agent by running away from it. Although this is a very simple task, it serves as a sanity test to prove that the environment and the A2C PPO model is working properly."
      ]
    },
    {
      "cell_type": "markdown",
      "metadata": {
        "id": "hJm6mNsiOgj_"
      },
      "source": [
        "## Run Experiment"
      ]
    },
    {
      "cell_type": "code",
      "execution_count": null,
      "metadata": {
        "colab": {
          "base_uri": "https://localhost:8080/"
        },
        "id": "OnaqTT41d5B4",
        "outputId": "34f81b71-ce34-4337-f407-1806708e0a87"
      },
      "outputs": [],
      "source": [
        "# NOTE: You need to manually stop this cell when you want it to stop recording\n",
        "#       Automating this process is a nightmare and not worth the effort\n",
        "# NOTE: It takes about 1 minute to actually load into the game because colab\n",
        "#       is running on 2 vCPUs which is the same as a single core CPU\n",
        "# NOTE: The game is rendered at 320x200 because we only have software rendering\n",
        "#       availabe. Surpringly, league adjusts it's HUD quite well to that resolution\n",
        "#       so you can still more or less see what's going on.\n",
        "# NOTE: Sometimes portpicker will pick an unavailable port, just restart this cell\n",
        "#       if that happens\n",
        "\n",
        "# Ensure old experiment data and video is deleted\n",
        "experiment_output = !ls | grep .txt | grep run_away\n",
        "experiment_output = experiment_output[0] if experiment_output else \"\"\n",
        "!rm experiment.mp4 $experiment_output\n",
        "\n",
        "# Run Experiment!\n",
        "epochs = 30 # Number of episodes to run experiment\n",
        "!ffmpeg -f x11grab -video_size 320x200 -i :1 -r 10 ./experiment.mp4 & python3 ./lolgym/examples/full_game_ppo.py --config_path \"/content/config_dirs.txt\" --host $host --epochs $epochs"
      ]
    },
    {
      "cell_type": "markdown",
      "metadata": {
        "id": "AORc_yq_OlOn"
      },
      "source": [
        "## View Experiment Video"
      ]
    },
    {
      "cell_type": "code",
      "execution_count": null,
      "metadata": {
        "colab": {
          "base_uri": "https://localhost:8080/",
          "height": 521
        },
        "id": "gA0n7C6sOms2",
        "outputId": "ac217008-2cdd-49ac-c024-e0e381de1639"
      },
      "outputs": [],
      "source": [
        "from IPython.display import HTML\n",
        "from base64 import b64encode\n",
        "mp4 = open('experiment.mp4','rb').read()\n",
        "data_url = \"data:video/mp4;base64,\" + b64encode(mp4).decode()\n",
        "HTML(\"\"\"\n",
        "<video width=800 controls>\n",
        "      <source src=\"%s\" type=\"video/mp4\">\n",
        "</video>\n",
        "\"\"\" % data_url)"
      ]
    },
    {
      "cell_type": "markdown",
      "metadata": {
        "id": "qpMp7lTQLZHk"
      },
      "source": [
        "## Visualise Data"
      ]
    },
    {
      "cell_type": "code",
      "execution_count": null,
      "metadata": {
        "colab": {
          "base_uri": "https://localhost:8080/",
          "height": 312
        },
        "id": "C9jUSgkTLdCs",
        "outputId": "cd07cb9c-130f-41dd-efc1-7215f92b6154"
      },
      "outputs": [],
      "source": [
        "import matplotlib.pyplot as plt\n",
        "import numpy as np\n",
        "\n",
        "# Get raw data from experiment logs\n",
        "experiment_output = !ls | grep .txt | grep run_away\n",
        "experiment_output = experiment_output[0]\n",
        "with open(experiment_output) as f:\n",
        "  rewards = list(filter(bool, f.read().split(\"+\")))\n",
        "  data = [float(d) for d in rewards]\n",
        "\n",
        "# Plot Trendline (PPO can be noisy with low sample size\n",
        "# so trendline makes graph clearer. Beware outliers)\n",
        "x = range(len(data))\n",
        "z = np.polyfit(x, data, 1)\n",
        "p = np.poly1d(z)\n",
        "plt.plot(x, p(x), \"r--\")\n",
        "\n",
        "# Plot Rewards\n",
        "plt.xlabel(\"Episode\")\n",
        "plt.ylabel(\"Episode Reward (Distance in Units)\")\n",
        "plt.title(\"Escape Task trained using PPO\")\n",
        "plt.plot(data, label=\"Mean Episode Reward\")"
      ]
    },
    {
      "cell_type": "code",
      "execution_count": null,
      "metadata": {
        "id": "uviSroZH1UD0"
      },
      "outputs": [],
      "source": []
    }
  ],
  "metadata": {
    "colab": {
      "collapsed_sections": [],
      "name": "League of Legends v4.20 Deep Reinforcement Learning Agent",
      "provenance": []
    },
    "kernelspec": {
      "display_name": "Python 3",
      "name": "python3"
    },
    "language_info": {
      "codemirror_mode": {
        "name": "ipython",
        "version": 3
      },
      "file_extension": ".py",
      "mimetype": "text/x-python",
      "name": "python",
      "nbconvert_exporter": "python",
      "pygments_lexer": "ipython3",
      "version": "3.9.0"
    }
  },
  "nbformat": 4,
  "nbformat_minor": 0
}
